{
 "cells": [
  {
   "cell_type": "code",
   "execution_count": 2,
   "id": "1f6f6216-4d42-4c30-8bd6-0d2a95489a7e",
   "metadata": {},
   "outputs": [],
   "source": [
    "import os\n",
    "import mlflow as mf\n",
    "mf.set_tracking_uri('http://127.0.0.1:5000')\n",
    "os.environ['MLFLOW_TRACKING_INSECURE_TLS'] = 'TRUE'\n",
    "\n",
    "experiment_id = mf.set_experiment('test')"
   ]
  },
  {
   "cell_type": "code",
   "execution_count": 3,
   "id": "97d28cad-860b-4a12-af36-e7423ba15a94",
   "metadata": {},
   "outputs": [],
   "source": [
    "import pandas as pd"
   ]
  },
  {
   "cell_type": "code",
   "execution_count": 5,
   "id": "d326533c-e0bf-421e-b85b-4fa163cc0d3c",
   "metadata": {},
   "outputs": [],
   "source": [
    "def get_data():\n",
    "    url = r\"C:\\Users\\Алим\\Desktop\\jupyter\\ML\\ml_lab\\EngeneerPractice\\data\\test.csv\"\n",
    "\n",
    "    try:\n",
    "        df = pd.read_csv(url)\n",
    "        return df   \n",
    "    except Exception as e:\n",
    "        raise e"
   ]
  },
  {
   "cell_type": "code",
   "execution_count": 7,
   "id": "900fe3c2-8e8e-4391-b02c-e6407a74dfc8",
   "metadata": {},
   "outputs": [
    {
     "data": {
      "text/html": [
       "<div>\n",
       "<style scoped>\n",
       "    .dataframe tbody tr th:only-of-type {\n",
       "        vertical-align: middle;\n",
       "    }\n",
       "\n",
       "    .dataframe tbody tr th {\n",
       "        vertical-align: top;\n",
       "    }\n",
       "\n",
       "    .dataframe thead th {\n",
       "        text-align: right;\n",
       "    }\n",
       "</style>\n",
       "<table border=\"1\" class=\"dataframe\">\n",
       "  <thead>\n",
       "    <tr style=\"text-align: right;\">\n",
       "      <th></th>\n",
       "      <th>PassengerId</th>\n",
       "      <th>Survived</th>\n",
       "      <th>Pclass</th>\n",
       "      <th>Age</th>\n",
       "      <th>SibSp</th>\n",
       "      <th>Parch</th>\n",
       "      <th>Fare</th>\n",
       "      <th>Sex_male</th>\n",
       "      <th>Embarked_Q</th>\n",
       "      <th>Embarked_S</th>\n",
       "    </tr>\n",
       "  </thead>\n",
       "  <tbody>\n",
       "    <tr>\n",
       "      <th>0</th>\n",
       "      <td>892</td>\n",
       "      <td>0</td>\n",
       "      <td>3</td>\n",
       "      <td>34.5</td>\n",
       "      <td>0</td>\n",
       "      <td>0</td>\n",
       "      <td>7.8292</td>\n",
       "      <td>True</td>\n",
       "      <td>True</td>\n",
       "      <td>False</td>\n",
       "    </tr>\n",
       "    <tr>\n",
       "      <th>1</th>\n",
       "      <td>893</td>\n",
       "      <td>0</td>\n",
       "      <td>3</td>\n",
       "      <td>47.0</td>\n",
       "      <td>1</td>\n",
       "      <td>0</td>\n",
       "      <td>7.0000</td>\n",
       "      <td>False</td>\n",
       "      <td>False</td>\n",
       "      <td>True</td>\n",
       "    </tr>\n",
       "    <tr>\n",
       "      <th>2</th>\n",
       "      <td>894</td>\n",
       "      <td>0</td>\n",
       "      <td>2</td>\n",
       "      <td>62.0</td>\n",
       "      <td>0</td>\n",
       "      <td>0</td>\n",
       "      <td>9.6875</td>\n",
       "      <td>True</td>\n",
       "      <td>True</td>\n",
       "      <td>False</td>\n",
       "    </tr>\n",
       "    <tr>\n",
       "      <th>3</th>\n",
       "      <td>895</td>\n",
       "      <td>0</td>\n",
       "      <td>3</td>\n",
       "      <td>27.0</td>\n",
       "      <td>0</td>\n",
       "      <td>0</td>\n",
       "      <td>8.6625</td>\n",
       "      <td>True</td>\n",
       "      <td>False</td>\n",
       "      <td>True</td>\n",
       "    </tr>\n",
       "    <tr>\n",
       "      <th>4</th>\n",
       "      <td>896</td>\n",
       "      <td>0</td>\n",
       "      <td>3</td>\n",
       "      <td>22.0</td>\n",
       "      <td>1</td>\n",
       "      <td>1</td>\n",
       "      <td>12.2875</td>\n",
       "      <td>False</td>\n",
       "      <td>False</td>\n",
       "      <td>True</td>\n",
       "    </tr>\n",
       "    <tr>\n",
       "      <th>...</th>\n",
       "      <td>...</td>\n",
       "      <td>...</td>\n",
       "      <td>...</td>\n",
       "      <td>...</td>\n",
       "      <td>...</td>\n",
       "      <td>...</td>\n",
       "      <td>...</td>\n",
       "      <td>...</td>\n",
       "      <td>...</td>\n",
       "      <td>...</td>\n",
       "    </tr>\n",
       "    <tr>\n",
       "      <th>413</th>\n",
       "      <td>1305</td>\n",
       "      <td>0</td>\n",
       "      <td>3</td>\n",
       "      <td>27.0</td>\n",
       "      <td>0</td>\n",
       "      <td>0</td>\n",
       "      <td>8.0500</td>\n",
       "      <td>True</td>\n",
       "      <td>False</td>\n",
       "      <td>True</td>\n",
       "    </tr>\n",
       "    <tr>\n",
       "      <th>414</th>\n",
       "      <td>1306</td>\n",
       "      <td>0</td>\n",
       "      <td>1</td>\n",
       "      <td>39.0</td>\n",
       "      <td>0</td>\n",
       "      <td>0</td>\n",
       "      <td>108.9000</td>\n",
       "      <td>False</td>\n",
       "      <td>False</td>\n",
       "      <td>False</td>\n",
       "    </tr>\n",
       "    <tr>\n",
       "      <th>415</th>\n",
       "      <td>1307</td>\n",
       "      <td>0</td>\n",
       "      <td>3</td>\n",
       "      <td>38.5</td>\n",
       "      <td>0</td>\n",
       "      <td>0</td>\n",
       "      <td>7.2500</td>\n",
       "      <td>True</td>\n",
       "      <td>False</td>\n",
       "      <td>True</td>\n",
       "    </tr>\n",
       "    <tr>\n",
       "      <th>416</th>\n",
       "      <td>1308</td>\n",
       "      <td>0</td>\n",
       "      <td>3</td>\n",
       "      <td>27.0</td>\n",
       "      <td>0</td>\n",
       "      <td>0</td>\n",
       "      <td>8.0500</td>\n",
       "      <td>True</td>\n",
       "      <td>False</td>\n",
       "      <td>True</td>\n",
       "    </tr>\n",
       "    <tr>\n",
       "      <th>417</th>\n",
       "      <td>1309</td>\n",
       "      <td>0</td>\n",
       "      <td>3</td>\n",
       "      <td>27.0</td>\n",
       "      <td>1</td>\n",
       "      <td>1</td>\n",
       "      <td>22.3583</td>\n",
       "      <td>True</td>\n",
       "      <td>False</td>\n",
       "      <td>False</td>\n",
       "    </tr>\n",
       "  </tbody>\n",
       "</table>\n",
       "<p>418 rows × 10 columns</p>\n",
       "</div>"
      ],
      "text/plain": [
       "     PassengerId  Survived  Pclass   Age  SibSp  Parch      Fare  Sex_male  \\\n",
       "0            892         0       3  34.5      0      0    7.8292      True   \n",
       "1            893         0       3  47.0      1      0    7.0000     False   \n",
       "2            894         0       2  62.0      0      0    9.6875      True   \n",
       "3            895         0       3  27.0      0      0    8.6625      True   \n",
       "4            896         0       3  22.0      1      1   12.2875     False   \n",
       "..           ...       ...     ...   ...    ...    ...       ...       ...   \n",
       "413         1305         0       3  27.0      0      0    8.0500      True   \n",
       "414         1306         0       1  39.0      0      0  108.9000     False   \n",
       "415         1307         0       3  38.5      0      0    7.2500      True   \n",
       "416         1308         0       3  27.0      0      0    8.0500      True   \n",
       "417         1309         0       3  27.0      1      1   22.3583      True   \n",
       "\n",
       "     Embarked_Q  Embarked_S  \n",
       "0          True       False  \n",
       "1         False        True  \n",
       "2          True       False  \n",
       "3         False        True  \n",
       "4         False        True  \n",
       "..          ...         ...  \n",
       "413       False        True  \n",
       "414       False       False  \n",
       "415       False        True  \n",
       "416       False        True  \n",
       "417       False       False  \n",
       "\n",
       "[418 rows x 10 columns]"
      ]
     },
     "execution_count": 7,
     "metadata": {},
     "output_type": "execute_result"
    }
   ],
   "source": [
    "get_data()"
   ]
  },
  {
   "cell_type": "code",
   "execution_count": 10,
   "id": "6f2b7816-4b40-460b-b38a-40a5d0dc7555",
   "metadata": {},
   "outputs": [
    {
     "data": {
      "text/plain": [
       "[<Experiment: artifact_location='mlflow-artifacts:/1', creation_time=1735241827254, experiment_id='1', last_update_time=1735241827254, lifecycle_stage='active', name='test', tags={}>,\n",
       " <Experiment: artifact_location='mlflow-artifacts:/0', creation_time=1735241807721, experiment_id='0', last_update_time=1735241807721, lifecycle_stage='active', name='Default', tags={}>]"
      ]
     },
     "execution_count": 10,
     "metadata": {},
     "output_type": "execute_result"
    }
   ],
   "source": [
    "from mlflow.tracking import MlflowClient\n",
    "client = MlflowClient(tracking_uri='http://127.0.0.1:5000')\n",
    "\n",
    "client.search_experiments()"
   ]
  },
  {
   "cell_type": "code",
   "execution_count": 11,
   "id": "55e6179b-75eb-472b-b9e3-23552d03125b",
   "metadata": {},
   "outputs": [],
   "source": [
    "from mlflow.entities import ViewType\n",
    "\n",
    "runs = client.search_runs(\n",
    "    experiment_ids='1',\n",
    "    filter_string=\"metrics.accuracy < 0.7\",\n",
    "    run_view_type=ViewType.ACTIVE_ONLY,\n",
    "    max_results=5,\n",
    "    order_by=[\"metrics.accuracy DESC\"]\n",
    ")"
   ]
  },
  {
   "cell_type": "code",
   "execution_count": 14,
   "id": "a359be22-2756-4f66-addb-4f2d369e4fba",
   "metadata": {},
   "outputs": [
    {
     "name": "stdout",
     "output_type": "stream",
     "text": [
      "run id: 14beb8119af346cb8b55469b4e706b6d, accuracy: 0.7654\n",
      "run id: 07ae815d4cea4a3b9a3bd27bfc3d730e, accuracy: 0.7542\n",
      "run id: 48ca81ca3e3b4920b5bf45ab0b8bb3bd, accuracy: 0.7430\n"
     ]
    }
   ],
   "source": [
    "for run in runs:\n",
    "    print(f\"run id: {run.info.run_id}, accuracy: {run.data.metrics['accuracy']:.4f}\")"
   ]
  },
  {
   "cell_type": "code",
   "execution_count": 38,
   "id": "a98552ab-8edd-4d0f-b09d-819a314ab4e8",
   "metadata": {},
   "outputs": [],
   "source": [
    "runs = client.search_runs(\n",
    "    experiment_ids='1',\n",
    "    filter_string=\"metrics.accuracy < 0.7\",\n",
    "    run_view_type=ViewType.ACTIVE_ONLY,\n",
    "    max_results=5,\n",
    "    order_by=[\"metrics.accuracy DESC\"]\n",
    ")"
   ]
  },
  {
   "cell_type": "code",
   "execution_count": 39,
   "id": "d07b070d-be2d-483f-ba6a-4a88878f2c38",
   "metadata": {},
   "outputs": [
    {
     "name": "stdout",
     "output_type": "stream",
     "text": [
      "run id: eab532db0ce748cc90797b156a097d64, accuracy: 0.6713\n",
      "run id: 36628541955a4172a02605e8dd67b4a3, accuracy: 0.6643\n"
     ]
    }
   ],
   "source": [
    "for run in runs:\n",
    "    print(f\"run id: {run.info.run_id}, accuracy: {run.data.metrics['accuracy']:.4f}\")"
   ]
  },
  {
   "cell_type": "markdown",
   "id": "4c29aa94-1796-4587-8d72-3cbf72f49f5a",
   "metadata": {},
   "source": [
    "# Random Forest"
   ]
  },
  {
   "cell_type": "code",
   "execution_count": 40,
   "id": "31d0f0c7-ec09-43ed-84aa-27ecd8321986",
   "metadata": {},
   "outputs": [
    {
     "name": "stderr",
     "output_type": "stream",
     "text": [
      "Successfully registered model 'rf'.\n",
      "2024/12/27 03:14:18 INFO mlflow.store.model_registry.abstract_store: Waiting up to 300 seconds for model version to finish creation. Model name: rf, version 1\n",
      "Created version '1' of model 'rf'.\n"
     ]
    },
    {
     "data": {
      "text/plain": [
       "<ModelVersion: aliases=[], creation_timestamp=1735251258896, current_stage='None', description='', last_updated_timestamp=1735251258896, name='rf', run_id='eab532db0ce748cc90797b156a097d64', run_link='', source='mlflow-artifacts:/1/eab532db0ce748cc90797b156a097d64/artifacts/model', status='READY', status_message='', tags={}, user_id='', version='1'>"
      ]
     },
     "execution_count": 40,
     "metadata": {},
     "output_type": "execute_result"
    }
   ],
   "source": [
    "run_id = \"eab532db0ce748cc90797b156a097d64\"\n",
    "model_uri = f\"runs:/{run_id}/model\"\n",
    "mf.register_model(model_uri=model_uri, name=\"rf\")"
   ]
  },
  {
   "cell_type": "code",
   "execution_count": 43,
   "id": "70381073-9d1e-43eb-ae2b-8a529ed64ec5",
   "metadata": {},
   "outputs": [
    {
     "name": "stderr",
     "output_type": "stream",
     "text": [
      "C:\\Users\\Алим\\AppData\\Local\\Temp\\ipykernel_38460\\374519748.py:3: FutureWarning: ``mlflow.tracking.client.MlflowClient.transition_model_version_stage`` is deprecated since 2.9.0. Model registry stages will be removed in a future major release. To learn more about the deprecation of model registry stages, see our migration guide here: https://mlflow.org/docs/latest/model-registry.html#migrating-from-stages\n",
      "  client.transition_model_version_stage(\n"
     ]
    },
    {
     "data": {
      "text/plain": [
       "<ModelVersion: aliases=[], creation_timestamp=1735251258896, current_stage='Production', description='', last_updated_timestamp=1735251376741, name='rf', run_id='eab532db0ce748cc90797b156a097d64', run_link='', source='mlflow-artifacts:/1/eab532db0ce748cc90797b156a097d64/artifacts/model', status='READY', status_message='', tags={}, user_id='', version='1'>"
      ]
     },
     "execution_count": 43,
     "metadata": {},
     "output_type": "execute_result"
    }
   ],
   "source": [
    "model_version = 1\n",
    "new_stage = \"Production\"\n",
    "client.transition_model_version_stage(\n",
    "    name='rf',\n",
    "    version=model_version,\n",
    "    stage=new_stage,\n",
    "    archive_existing_versions=True\n",
    ")"
   ]
  },
  {
   "cell_type": "code",
   "execution_count": 44,
   "id": "97d9bb0a-cccb-4330-8016-2c06fcfcda42",
   "metadata": {},
   "outputs": [
    {
     "name": "stdout",
     "output_type": "stream",
     "text": [
      "version: 1, stage: Production\n"
     ]
    },
    {
     "name": "stderr",
     "output_type": "stream",
     "text": [
      "C:\\Users\\Алим\\AppData\\Local\\Temp\\ipykernel_38460\\3327231889.py:2: FutureWarning: ``mlflow.tracking.client.MlflowClient.get_latest_versions`` is deprecated since 2.9.0. Model registry stages will be removed in a future major release. To learn more about the deprecation of model registry stages, see our migration guide here: https://mlflow.org/docs/latest/model-registry.html#migrating-from-stages\n",
      "  latest_versions = client.get_latest_versions(name=model_name)\n"
     ]
    }
   ],
   "source": [
    "model_name = \"rf\"\n",
    "latest_versions = client.get_latest_versions(name=model_name)\n",
    "\n",
    "for version in latest_versions:\n",
    "    print(f\"version: {version.version}, stage: {version.current_stage}\")"
   ]
  },
  {
   "cell_type": "markdown",
   "id": "4b4aea60-e353-4e7a-9593-d8e792c4961f",
   "metadata": {},
   "source": [
    "# Catboost"
   ]
  },
  {
   "cell_type": "code",
   "execution_count": 16,
   "id": "e6ba624c-ac33-401c-86e4-1249d5b95bca",
   "metadata": {},
   "outputs": [
    {
     "name": "stderr",
     "output_type": "stream",
     "text": [
      "Successfully registered model 'test'.\n",
      "2024/12/27 02:44:46 INFO mlflow.store.model_registry.abstract_store: Waiting up to 300 seconds for model version to finish creation. Model name: test, version 1\n",
      "Created version '1' of model 'test'.\n"
     ]
    },
    {
     "data": {
      "text/plain": [
       "<ModelVersion: aliases=[], creation_timestamp=1735249486974, current_stage='None', description='', last_updated_timestamp=1735249486974, name='test', run_id='14beb8119af346cb8b55469b4e706b6d', run_link='', source='mlflow-artifacts:/1/14beb8119af346cb8b55469b4e706b6d/artifacts/model', status='READY', status_message='', tags={}, user_id='', version='1'>"
      ]
     },
     "execution_count": 16,
     "metadata": {},
     "output_type": "execute_result"
    }
   ],
   "source": [
    "run_id = \"14beb8119af346cb8b55469b4e706b6d\"\n",
    "model_uri = f\"runs:/{run_id}/model\"\n",
    "mf.register_model(model_uri=model_uri, name=\"test\")"
   ]
  },
  {
   "cell_type": "code",
   "execution_count": 27,
   "id": "729fb14f-7f38-4983-9161-6317adea52ff",
   "metadata": {},
   "outputs": [
    {
     "name": "stderr",
     "output_type": "stream",
     "text": [
      "Registered model 'test' already exists. Creating a new version of this model...\n",
      "2024/12/27 02:52:42 INFO mlflow.store.model_registry.abstract_store: Waiting up to 300 seconds for model version to finish creation. Model name: test, version 2\n",
      "Created version '2' of model 'test'.\n"
     ]
    },
    {
     "data": {
      "text/plain": [
       "<ModelVersion: aliases=[], creation_timestamp=1735249962446, current_stage='None', description='', last_updated_timestamp=1735249962446, name='test', run_id='07ae815d4cea4a3b9a3bd27bfc3d730e', run_link='', source='mlflow-artifacts:/1/07ae815d4cea4a3b9a3bd27bfc3d730e/artifacts/model', status='READY', status_message='', tags={}, user_id='', version='2'>"
      ]
     },
     "execution_count": 27,
     "metadata": {},
     "output_type": "execute_result"
    }
   ],
   "source": [
    "run_id = \"07ae815d4cea4a3b9a3bd27bfc3d730e\"\n",
    "model_uri = f\"runs:/{run_id}/model\"\n",
    "mf.register_model(model_uri=model_uri, name=\"test\")"
   ]
  },
  {
   "cell_type": "code",
   "execution_count": 28,
   "id": "67416b7f-65c4-4783-818a-80225f66bfe1",
   "metadata": {},
   "outputs": [
    {
     "name": "stdout",
     "output_type": "stream",
     "text": [
      "version: 1, stage: Production\n",
      "version: 2, stage: None\n"
     ]
    },
    {
     "name": "stderr",
     "output_type": "stream",
     "text": [
      "C:\\Users\\Алим\\AppData\\Local\\Temp\\ipykernel_38460\\917712784.py:2: FutureWarning: ``mlflow.tracking.client.MlflowClient.get_latest_versions`` is deprecated since 2.9.0. Model registry stages will be removed in a future major release. To learn more about the deprecation of model registry stages, see our migration guide here: https://mlflow.org/docs/latest/model-registry.html#migrating-from-stages\n",
      "  latest_versions = client.get_latest_versions(name=model_name)\n"
     ]
    }
   ],
   "source": [
    "model_name = \"test\"\n",
    "latest_versions = client.get_latest_versions(name=model_name)\n",
    "\n",
    "for version in latest_versions:\n",
    "    print(f\"version: {version.version}, stage: {version.current_stage}\")"
   ]
  },
  {
   "cell_type": "code",
   "execution_count": 18,
   "id": "98783e6f-50b2-4cf6-8200-07a0cadf6cac",
   "metadata": {},
   "outputs": [
    {
     "name": "stderr",
     "output_type": "stream",
     "text": [
      "C:\\Users\\Алим\\AppData\\Local\\Temp\\ipykernel_38460\\3558476218.py:3: FutureWarning: ``mlflow.tracking.client.MlflowClient.transition_model_version_stage`` is deprecated since 2.9.0. Model registry stages will be removed in a future major release. To learn more about the deprecation of model registry stages, see our migration guide here: https://mlflow.org/docs/latest/model-registry.html#migrating-from-stages\n",
      "  client.transition_model_version_stage(\n"
     ]
    },
    {
     "data": {
      "text/plain": [
       "<ModelVersion: aliases=[], creation_timestamp=1735249486974, current_stage='Production', description='', last_updated_timestamp=1735249529299, name='test', run_id='14beb8119af346cb8b55469b4e706b6d', run_link='', source='mlflow-artifacts:/1/14beb8119af346cb8b55469b4e706b6d/artifacts/model', status='READY', status_message='', tags={}, user_id='', version='1'>"
      ]
     },
     "execution_count": 18,
     "metadata": {},
     "output_type": "execute_result"
    }
   ],
   "source": [
    "model_version = 1\n",
    "new_stage = \"Production\"\n",
    "client.transition_model_version_stage(\n",
    "    name=model_name,\n",
    "    version=model_version,\n",
    "    stage=new_stage,\n",
    "    archive_existing_versions=True\n",
    ")"
   ]
  },
  {
   "cell_type": "code",
   "execution_count": 30,
   "id": "802d6ad2-6c2c-4b0b-aacf-51d175300008",
   "metadata": {},
   "outputs": [
    {
     "name": "stderr",
     "output_type": "stream",
     "text": [
      "C:\\Users\\Алим\\AppData\\Local\\Temp\\ipykernel_38460\\3336984827.py:3: FutureWarning: ``mlflow.tracking.client.MlflowClient.transition_model_version_stage`` is deprecated since 2.9.0. Model registry stages will be removed in a future major release. To learn more about the deprecation of model registry stages, see our migration guide here: https://mlflow.org/docs/latest/model-registry.html#migrating-from-stages\n",
      "  client.transition_model_version_stage(\n"
     ]
    },
    {
     "data": {
      "text/plain": [
       "<ModelVersion: aliases=[], creation_timestamp=1735249962446, current_stage='Staging', description='', last_updated_timestamp=1735249980625, name='test', run_id='07ae815d4cea4a3b9a3bd27bfc3d730e', run_link='', source='mlflow-artifacts:/1/07ae815d4cea4a3b9a3bd27bfc3d730e/artifacts/model', status='READY', status_message='', tags={}, user_id='', version='2'>"
      ]
     },
     "execution_count": 30,
     "metadata": {},
     "output_type": "execute_result"
    }
   ],
   "source": [
    "model_version = 2\n",
    "new_stage = \"Staging\"\n",
    "client.transition_model_version_stage(\n",
    "    name=model_name,\n",
    "    version=model_version,\n",
    "    stage=new_stage,\n",
    "    archive_existing_versions=True\n",
    ")"
   ]
  },
  {
   "cell_type": "code",
   "execution_count": 55,
   "id": "092c877c-fc7c-48a4-9a47-dd0217f65a79",
   "metadata": {},
   "outputs": [
    {
     "name": "stdout",
     "output_type": "stream",
     "text": [
      "version: 1, stage: Production\n",
      "version: 2, stage: Staging\n",
      "version: 3, stage: None\n"
     ]
    },
    {
     "name": "stderr",
     "output_type": "stream",
     "text": [
      "C:\\Users\\Алим\\AppData\\Local\\Temp\\ipykernel_38460\\917712784.py:2: FutureWarning: ``mlflow.tracking.client.MlflowClient.get_latest_versions`` is deprecated since 2.9.0. Model registry stages will be removed in a future major release. To learn more about the deprecation of model registry stages, see our migration guide here: https://mlflow.org/docs/latest/model-registry.html#migrating-from-stages\n",
      "  latest_versions = client.get_latest_versions(name=model_name)\n"
     ]
    }
   ],
   "source": [
    "model_name = \"test\"\n",
    "latest_versions = client.get_latest_versions(name=model_name)\n",
    "\n",
    "for version in latest_versions:\n",
    "    print(f\"version: {version.version}, stage: {version.current_stage}\")"
   ]
  },
  {
   "cell_type": "code",
   "execution_count": 20,
   "id": "8abf8a29-d7e2-4635-abc7-d04a1d89204e",
   "metadata": {},
   "outputs": [],
   "source": [
    "from sklearn.model_selection import train_test_split\n",
    "df = get_data()\n",
    "train,test = train_test_split(df,random_state=42)\n",
    "train_x = train.drop([\"Survived\"],axis=1)\n",
    "test_x = test.drop([\"Survived\"],axis=1)\n",
    "\n",
    "train_y = train[[\"Survived\"]]\n",
    "test_y = test[[\"Survived\"]]"
   ]
  },
  {
   "cell_type": "code",
   "execution_count": 58,
   "id": "abd123b7-5164-461a-b2cd-dd2673b1c3fa",
   "metadata": {},
   "outputs": [],
   "source": [
    "from sklearn.metrics import accuracy_score\n",
    "def test_model(path, X_test, y_test):\n",
    "    model = mf.pyfunc.load_model(path)\n",
    "    y_pred = model.predict(X_test)\n",
    "    return {\"accuracy\": accuracy_score(y_test, y_pred)}"
   ]
  },
  {
   "cell_type": "code",
   "execution_count": 59,
   "id": "a85408c8-7541-4e41-941e-59c95ee48593",
   "metadata": {},
   "outputs": [
    {
     "name": "stderr",
     "output_type": "stream",
     "text": [
      "Downloading artifacts: 100%|█████████████████████████████████████████████████████████████| 5/5 [00:00<00:00, 81.97it/s]\n"
     ]
    },
    {
     "data": {
      "text/plain": [
       "{'accuracy': 0.6476190476190476}"
      ]
     },
     "execution_count": 59,
     "metadata": {},
     "output_type": "execute_result"
    }
   ],
   "source": [
    "test_model(path='runs:/07ae815d4cea4a3b9a3bd27bfc3d730e/catboost_model', X_test=test_x, y_test=test_y)"
   ]
  },
  {
   "cell_type": "code",
   "execution_count": 60,
   "id": "0e6774e2-244e-4372-9cb4-32c79eec0f54",
   "metadata": {},
   "outputs": [
    {
     "name": "stderr",
     "output_type": "stream",
     "text": [
      "Downloading artifacts: 100%|█████████████████████████████████████████████████████████████| 5/5 [00:00<00:00, 70.61it/s]\n"
     ]
    },
    {
     "data": {
      "text/plain": [
       "{'accuracy': 0.6761904761904762}"
      ]
     },
     "execution_count": 60,
     "metadata": {},
     "output_type": "execute_result"
    }
   ],
   "source": [
    "test_model(path='runs:/14beb8119af346cb8b55469b4e706b6d/catboost_model', X_test=test_x, y_test=test_y)"
   ]
  },
  {
   "cell_type": "code",
   "execution_count": 64,
   "id": "288257cb-0260-4b5a-bb33-d1ac62709162",
   "metadata": {},
   "outputs": [],
   "source": [
    "import nbformat\n",
    "from nbconvert import HTMLExporter\n",
    "\n",
    "def convert_ipynb_to_html(ipynb_path, html_path):\n",
    "    with open(ipynb_path, 'r', encoding='utf-8') as f:\n",
    "        nb = nbformat.read(f, as_version=4)\n",
    "    \n",
    "    html_exporter = HTMLExporter()\n",
    "    (body, resources) = html_exporter.from_notebook_node(nb)\n",
    "    \n",
    "    with open(html_path, 'w', encoding='utf-8') as f:\n",
    "        f.write(body)\n",
    "\n"
   ]
  },
  {
   "cell_type": "code",
   "execution_count": 65,
   "id": "cffe4cc7-7a0c-4ffa-95d5-a1122f618bfb",
   "metadata": {},
   "outputs": [
    {
     "name": "stderr",
     "output_type": "stream",
     "text": [
      "2024/12/27 03:25:46 INFO mlflow.tracking._tracking_service.client: 🏃 View run placid-elk-760 at: http://127.0.0.1:5000/#/experiments/1/runs/f56407e25ffa4a2ab42f4796ee5b3713.\n",
      "2024/12/27 03:25:46 INFO mlflow.tracking._tracking_service.client: 🧪 View experiment at: http://127.0.0.1:5000/#/experiments/1.\n"
     ]
    }
   ],
   "source": [
    "path = r\"C:\\Users\\Алим\\Desktop\\jupyter\\ML\\ml_lab\\EngeneerPractice\\\\\"\n",
    "convert_ipynb_to_html(path + 'ml_exp.ipynb', path + 'ml_exp.html')\n",
    "with mf.start_run():\n",
    "    mf.log_artifact(path + 'ml_exp.html')"
   ]
  },
  {
   "cell_type": "code",
   "execution_count": null,
   "id": "41b4e358-f667-446d-b82c-65dccc5c4f89",
   "metadata": {},
   "outputs": [],
   "source": []
  }
 ],
 "metadata": {
  "kernelspec": {
   "display_name": "Python 3 (ipykernel)",
   "language": "python",
   "name": "python3"
  },
  "language_info": {
   "codemirror_mode": {
    "name": "ipython",
    "version": 3
   },
   "file_extension": ".py",
   "mimetype": "text/x-python",
   "name": "python",
   "nbconvert_exporter": "python",
   "pygments_lexer": "ipython3",
   "version": "3.8.20"
  }
 },
 "nbformat": 4,
 "nbformat_minor": 5
}
